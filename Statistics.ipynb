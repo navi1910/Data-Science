{
 "cells": [
  {
   "cell_type": "markdown",
   "id": "015f156e",
   "metadata": {},
   "source": [
    "## Descriptive Statistics"
   ]
  },
  {
   "cell_type": "code",
   "execution_count": 3,
   "id": "beed0857",
   "metadata": {},
   "outputs": [],
   "source": [
    "# Measures of central tendency\n",
    "\n",
    "x = [20, 23, 45, 21, 19]"
   ]
  },
  {
   "cell_type": "code",
   "execution_count": 4,
   "id": "c9b62659",
   "metadata": {},
   "outputs": [
    {
     "data": {
      "text/plain": [
       "5"
      ]
     },
     "execution_count": 4,
     "metadata": {},
     "output_type": "execute_result"
    }
   ],
   "source": [
    "len(x)"
   ]
  },
  {
   "cell_type": "code",
   "execution_count": 5,
   "id": "e94fe3ed",
   "metadata": {},
   "outputs": [
    {
     "data": {
      "text/plain": [
       "25.6"
      ]
     },
     "execution_count": 5,
     "metadata": {},
     "output_type": "execute_result"
    }
   ],
   "source": [
    "(20+23+45+21+19)/len(x)"
   ]
  },
  {
   "cell_type": "code",
   "execution_count": 6,
   "id": "62853c23",
   "metadata": {},
   "outputs": [],
   "source": [
    "import numpy as np"
   ]
  },
  {
   "cell_type": "code",
   "execution_count": 7,
   "id": "488a370f",
   "metadata": {},
   "outputs": [
    {
     "data": {
      "text/plain": [
       "25.6"
      ]
     },
     "execution_count": 7,
     "metadata": {},
     "output_type": "execute_result"
    }
   ],
   "source": [
    "np.mean(x)"
   ]
  },
  {
   "cell_type": "code",
   "execution_count": 8,
   "id": "0fd103da",
   "metadata": {},
   "outputs": [
    {
     "data": {
      "text/plain": [
       "23.6"
      ]
     },
     "execution_count": 8,
     "metadata": {},
     "output_type": "execute_result"
    }
   ],
   "source": [
    "np.mean([20,21,24,25,28])"
   ]
  },
  {
   "cell_type": "code",
   "execution_count": 9,
   "id": "8fe7d838",
   "metadata": {},
   "outputs": [
    {
     "data": {
      "text/plain": [
       "27.0"
      ]
     },
     "execution_count": 9,
     "metadata": {},
     "output_type": "execute_result"
    }
   ],
   "source": [
    "np.mean([5,21,24,25,60])"
   ]
  },
  {
   "cell_type": "code",
   "execution_count": 10,
   "id": "cfab1022",
   "metadata": {},
   "outputs": [],
   "source": [
    "data = [10,12,8,6,20,35,30]"
   ]
  },
  {
   "cell_type": "code",
   "execution_count": 11,
   "id": "b2eaabbc",
   "metadata": {},
   "outputs": [],
   "source": [
    "import numpy as np"
   ]
  },
  {
   "cell_type": "code",
   "execution_count": 12,
   "id": "94862a15",
   "metadata": {},
   "outputs": [
    {
     "data": {
      "text/plain": [
       "6"
      ]
     },
     "execution_count": 12,
     "metadata": {},
     "output_type": "execute_result"
    }
   ],
   "source": [
    "np.min(data)"
   ]
  },
  {
   "cell_type": "code",
   "execution_count": 13,
   "id": "529975e7",
   "metadata": {},
   "outputs": [
    {
     "data": {
      "text/plain": [
       "35"
      ]
     },
     "execution_count": 13,
     "metadata": {},
     "output_type": "execute_result"
    }
   ],
   "source": [
    "np.max(data)"
   ]
  },
  {
   "cell_type": "code",
   "execution_count": 14,
   "id": "9571181b",
   "metadata": {},
   "outputs": [],
   "source": [
    "range_data = np.max(data) - np.min(data)"
   ]
  },
  {
   "cell_type": "code",
   "execution_count": 15,
   "id": "2aa7ad41",
   "metadata": {},
   "outputs": [
    {
     "data": {
      "text/plain": [
       "29"
      ]
     },
     "execution_count": 15,
     "metadata": {},
     "output_type": "execute_result"
    }
   ],
   "source": [
    "range_data"
   ]
  },
  {
   "cell_type": "code",
   "execution_count": 16,
   "id": "5a229a9c",
   "metadata": {},
   "outputs": [
    {
     "data": {
      "text/plain": [
       "17.285714285714285"
      ]
     },
     "execution_count": 16,
     "metadata": {},
     "output_type": "execute_result"
    }
   ],
   "source": [
    "np.mean(data)"
   ]
  },
  {
   "cell_type": "code",
   "execution_count": 17,
   "id": "976b6547",
   "metadata": {},
   "outputs": [
    {
     "data": {
      "text/plain": [
       "12.0"
      ]
     },
     "execution_count": 17,
     "metadata": {},
     "output_type": "execute_result"
    }
   ],
   "source": [
    "np.median(data)"
   ]
  },
  {
   "cell_type": "code",
   "execution_count": 18,
   "id": "e824c283",
   "metadata": {},
   "outputs": [
    {
     "data": {
      "text/plain": [
       "12.0"
      ]
     },
     "execution_count": 18,
     "metadata": {},
     "output_type": "execute_result"
    }
   ],
   "source": [
    "np.quantile(data, 0.5) # Median is 50%"
   ]
  },
  {
   "cell_type": "code",
   "execution_count": 19,
   "id": "38bac264",
   "metadata": {},
   "outputs": [
    {
     "data": {
      "text/plain": [
       "9.0"
      ]
     },
     "execution_count": 19,
     "metadata": {},
     "output_type": "execute_result"
    }
   ],
   "source": [
    "np.quantile(data, 0.25)"
   ]
  },
  {
   "cell_type": "code",
   "execution_count": 20,
   "id": "78c5c63d",
   "metadata": {},
   "outputs": [
    {
     "data": {
      "text/plain": [
       "25.0"
      ]
     },
     "execution_count": 20,
     "metadata": {},
     "output_type": "execute_result"
    }
   ],
   "source": [
    "np.quantile(data, 0.75)"
   ]
  },
  {
   "cell_type": "code",
   "execution_count": 21,
   "id": "05019935",
   "metadata": {},
   "outputs": [
    {
     "data": {
      "text/plain": [
       "34.699999999999996"
      ]
     },
     "execution_count": 21,
     "metadata": {},
     "output_type": "execute_result"
    }
   ],
   "source": [
    "np.quantile(data, 0.99)"
   ]
  },
  {
   "cell_type": "code",
   "execution_count": 22,
   "id": "ffff9f67",
   "metadata": {},
   "outputs": [],
   "source": [
    "import numpy as np"
   ]
  },
  {
   "cell_type": "code",
   "execution_count": 23,
   "id": "a75aeac4",
   "metadata": {},
   "outputs": [],
   "source": [
    "data = np.random.randint(10,100,10)"
   ]
  },
  {
   "cell_type": "code",
   "execution_count": 24,
   "id": "632590bd",
   "metadata": {
    "scrolled": true
   },
   "outputs": [
    {
     "data": {
      "text/plain": [
       "array([22, 16, 86, 18, 66, 91, 34, 87, 65, 20])"
      ]
     },
     "execution_count": 24,
     "metadata": {},
     "output_type": "execute_result"
    }
   ],
   "source": [
    "data"
   ]
  },
  {
   "cell_type": "code",
   "execution_count": 25,
   "id": "c2e1d1fa",
   "metadata": {
    "scrolled": true
   },
   "outputs": [
    {
     "data": {
      "text/plain": [
       "49.5"
      ]
     },
     "execution_count": 25,
     "metadata": {},
     "output_type": "execute_result"
    }
   ],
   "source": [
    "np.median(data)"
   ]
  },
  {
   "cell_type": "code",
   "execution_count": 26,
   "id": "b0f0358c",
   "metadata": {},
   "outputs": [
    {
     "data": {
      "text/plain": [
       "50.5"
      ]
     },
     "execution_count": 26,
     "metadata": {},
     "output_type": "execute_result"
    }
   ],
   "source": [
    "np.mean(data)"
   ]
  },
  {
   "cell_type": "code",
   "execution_count": 27,
   "id": "3a6ad627",
   "metadata": {},
   "outputs": [],
   "source": [
    "Q1 = np.quantile(data, 0.25)"
   ]
  },
  {
   "cell_type": "code",
   "execution_count": 28,
   "id": "3c341eb9",
   "metadata": {},
   "outputs": [],
   "source": [
    "Q3 = np.quantile(data, 0.75)"
   ]
  },
  {
   "cell_type": "code",
   "execution_count": 29,
   "id": "f1d06ee9",
   "metadata": {},
   "outputs": [],
   "source": [
    "IQR = Q3 - Q1"
   ]
  },
  {
   "cell_type": "code",
   "execution_count": 30,
   "id": "11768042",
   "metadata": {},
   "outputs": [
    {
     "data": {
      "text/plain": [
       "-70.25"
      ]
     },
     "execution_count": 30,
     "metadata": {},
     "output_type": "execute_result"
    }
   ],
   "source": [
    "Q1 - (1.5*IQR)"
   ]
  },
  {
   "cell_type": "code",
   "execution_count": 31,
   "id": "4f2022d7",
   "metadata": {},
   "outputs": [
    {
     "data": {
      "text/plain": [
       "171.75"
      ]
     },
     "execution_count": 31,
     "metadata": {},
     "output_type": "execute_result"
    }
   ],
   "source": [
    "Q3 + (1.5*IQR)"
   ]
  },
  {
   "cell_type": "code",
   "execution_count": 32,
   "id": "9dc2eb9f",
   "metadata": {},
   "outputs": [],
   "source": [
    "import pandas as pd"
   ]
  },
  {
   "cell_type": "code",
   "execution_count": 33,
   "id": "5505f395",
   "metadata": {},
   "outputs": [],
   "source": [
    "df = pd.DataFrame(data)"
   ]
  },
  {
   "cell_type": "code",
   "execution_count": 34,
   "id": "bf349bd3",
   "metadata": {},
   "outputs": [
    {
     "data": {
      "text/plain": [
       "<AxesSubplot:ylabel='Frequency'>"
      ]
     },
     "execution_count": 34,
     "metadata": {},
     "output_type": "execute_result"
    },
    {
     "data": {
      "image/png": "[encoded data removed]",
      "text/plain": [
       "<Figure size 432x288 with 1 Axes>"
      ]
     },
     "metadata": {
      "needs_background": "light"
     },
     "output_type": "display_data"
    }
   ],
   "source": [
    "df.plot(kind = 'hist')"
   ]
  },
  {
   "cell_type": "code",
   "execution_count": 35,
   "id": "4e600c4e",
   "metadata": {},
   "outputs": [
    {
     "data": {
      "text/plain": [
       "array([22, 16, 86, 18, 66, 91, 34, 87, 65, 20])"
      ]
     },
     "execution_count": 35,
     "metadata": {},
     "output_type": "execute_result"
    }
   ],
   "source": [
    "data"
   ]
  },
  {
   "cell_type": "code",
   "execution_count": 36,
   "id": "96d91df4",
   "metadata": {},
   "outputs": [],
   "source": [
    "import seaborn as sns"
   ]
  },
  {
   "cell_type": "code",
   "execution_count": 37,
   "id": "53a4ecdd",
   "metadata": {},
   "outputs": [],
   "source": [
    "tips = sns.load_dataset('tips')"
   ]
  },
  {
   "cell_type": "code",
   "execution_count": 38,
   "id": "d0f5f139",
   "metadata": {},
   "outputs": [
    {
     "data": {
      "text/html": [
       "<div>\n",
       "<style scoped>\n",
       "    .dataframe tbody tr th:only-of-type {\n",
       "        vertical-align: middle;\n",
       "    }\n",
       "\n",
       "    .dataframe tbody tr th {\n",
       "        vertical-align: top;\n",
       "    }\n",
       "\n",
       "    .dataframe thead th {\n",
       "        text-align: right;\n",
       "    }\n",
       "</style>\n",
       "<table border=\"1\" class=\"dataframe\">\n",
       "  <thead>\n",
       "    <tr style=\"text-align: right;\">\n",
       "      <th></th>\n",
       "      <th>total_bill</th>\n",
       "      <th>tip</th>\n",
       "      <th>sex</th>\n",
       "      <th>smoker</th>\n",
       "      <th>day</th>\n",
       "      <th>time</th>\n",
       "      <th>size</th>\n",
       "    </tr>\n",
       "  </thead>\n",
       "  <tbody>\n",
       "    <tr>\n",
       "      <th>0</th>\n",
       "      <td>16.99</td>\n",
       "      <td>1.01</td>\n",
       "      <td>Female</td>\n",
       "      <td>No</td>\n",
       "      <td>Sun</td>\n",
       "      <td>Dinner</td>\n",
       "      <td>2</td>\n",
       "    </tr>\n",
       "    <tr>\n",
       "      <th>1</th>\n",
       "      <td>10.34</td>\n",
       "      <td>1.66</td>\n",
       "      <td>Male</td>\n",
       "      <td>No</td>\n",
       "      <td>Sun</td>\n",
       "      <td>Dinner</td>\n",
       "      <td>3</td>\n",
       "    </tr>\n",
       "    <tr>\n",
       "      <th>2</th>\n",
       "      <td>21.01</td>\n",
       "      <td>3.50</td>\n",
       "      <td>Male</td>\n",
       "      <td>No</td>\n",
       "      <td>Sun</td>\n",
       "      <td>Dinner</td>\n",
       "      <td>3</td>\n",
       "    </tr>\n",
       "    <tr>\n",
       "      <th>3</th>\n",
       "      <td>23.68</td>\n",
       "      <td>3.31</td>\n",
       "      <td>Male</td>\n",
       "      <td>No</td>\n",
       "      <td>Sun</td>\n",
       "      <td>Dinner</td>\n",
       "      <td>2</td>\n",
       "    </tr>\n",
       "    <tr>\n",
       "      <th>4</th>\n",
       "      <td>24.59</td>\n",
       "      <td>3.61</td>\n",
       "      <td>Female</td>\n",
       "      <td>No</td>\n",
       "      <td>Sun</td>\n",
       "      <td>Dinner</td>\n",
       "      <td>4</td>\n",
       "    </tr>\n",
       "    <tr>\n",
       "      <th>...</th>\n",
       "      <td>...</td>\n",
       "      <td>...</td>\n",
       "      <td>...</td>\n",
       "      <td>...</td>\n",
       "      <td>...</td>\n",
       "      <td>...</td>\n",
       "      <td>...</td>\n",
       "    </tr>\n",
       "    <tr>\n",
       "      <th>239</th>\n",
       "      <td>29.03</td>\n",
       "      <td>5.92</td>\n",
       "      <td>Male</td>\n",
       "      <td>No</td>\n",
       "      <td>Sat</td>\n",
       "      <td>Dinner</td>\n",
       "      <td>3</td>\n",
       "    </tr>\n",
       "    <tr>\n",
       "      <th>240</th>\n",
       "      <td>27.18</td>\n",
       "      <td>2.00</td>\n",
       "      <td>Female</td>\n",
       "      <td>Yes</td>\n",
       "      <td>Sat</td>\n",
       "      <td>Dinner</td>\n",
       "      <td>2</td>\n",
       "    </tr>\n",
       "    <tr>\n",
       "      <th>241</th>\n",
       "      <td>22.67</td>\n",
       "      <td>2.00</td>\n",
       "      <td>Male</td>\n",
       "      <td>Yes</td>\n",
       "      <td>Sat</td>\n",
       "      <td>Dinner</td>\n",
       "      <td>2</td>\n",
       "    </tr>\n",
       "    <tr>\n",
       "      <th>242</th>\n",
       "      <td>17.82</td>\n",
       "      <td>1.75</td>\n",
       "      <td>Male</td>\n",
       "      <td>No</td>\n",
       "      <td>Sat</td>\n",
       "      <td>Dinner</td>\n",
       "      <td>2</td>\n",
       "    </tr>\n",
       "    <tr>\n",
       "      <th>243</th>\n",
       "      <td>18.78</td>\n",
       "      <td>3.00</td>\n",
       "      <td>Female</td>\n",
       "      <td>No</td>\n",
       "      <td>Thur</td>\n",
       "      <td>Dinner</td>\n",
       "      <td>2</td>\n",
       "    </tr>\n",
       "  </tbody>\n",
       "</table>\n",
       "<p>244 rows × 7 columns</p>\n",
       "</div>"
      ],
      "text/plain": [
       "     total_bill   tip     sex smoker   day    time  size\n",
       "0         16.99  1.01  Female     No   Sun  Dinner     2\n",
       "1         10.34  1.66    Male     No   Sun  Dinner     3\n",
       "2         21.01  3.50    Male     No   Sun  Dinner     3\n",
       "3         23.68  3.31    Male     No   Sun  Dinner     2\n",
       "4         24.59  3.61  Female     No   Sun  Dinner     4\n",
       "..          ...   ...     ...    ...   ...     ...   ...\n",
       "239       29.03  5.92    Male     No   Sat  Dinner     3\n",
       "240       27.18  2.00  Female    Yes   Sat  Dinner     2\n",
       "241       22.67  2.00    Male    Yes   Sat  Dinner     2\n",
       "242       17.82  1.75    Male     No   Sat  Dinner     2\n",
       "243       18.78  3.00  Female     No  Thur  Dinner     2\n",
       "\n",
       "[244 rows x 7 columns]"
      ]
     },
     "execution_count": 38,
     "metadata": {},
     "output_type": "execute_result"
    }
   ],
   "source": [
    "tips"
   ]
  },
  {
   "cell_type": "code",
   "execution_count": 39,
   "id": "cf137fcc",
   "metadata": {},
   "outputs": [
    {
     "data": {
      "text/html": [
       "<div>\n",
       "<style scoped>\n",
       "    .dataframe tbody tr th:only-of-type {\n",
       "        vertical-align: middle;\n",
       "    }\n",
       "\n",
       "    .dataframe tbody tr th {\n",
       "        vertical-align: top;\n",
       "    }\n",
       "\n",
       "    .dataframe thead th {\n",
       "        text-align: right;\n",
       "    }\n",
       "</style>\n",
       "<table border=\"1\" class=\"dataframe\">\n",
       "  <thead>\n",
       "    <tr style=\"text-align: right;\">\n",
       "      <th></th>\n",
       "      <th>total_bill</th>\n",
       "      <th>tip</th>\n",
       "      <th>sex</th>\n",
       "      <th>smoker</th>\n",
       "      <th>day</th>\n",
       "      <th>time</th>\n",
       "      <th>size</th>\n",
       "    </tr>\n",
       "  </thead>\n",
       "  <tbody>\n",
       "    <tr>\n",
       "      <th>0</th>\n",
       "      <td>16.99</td>\n",
       "      <td>1.01</td>\n",
       "      <td>Female</td>\n",
       "      <td>No</td>\n",
       "      <td>Sun</td>\n",
       "      <td>Dinner</td>\n",
       "      <td>2</td>\n",
       "    </tr>\n",
       "    <tr>\n",
       "      <th>1</th>\n",
       "      <td>10.34</td>\n",
       "      <td>1.66</td>\n",
       "      <td>Male</td>\n",
       "      <td>No</td>\n",
       "      <td>Sun</td>\n",
       "      <td>Dinner</td>\n",
       "      <td>3</td>\n",
       "    </tr>\n",
       "    <tr>\n",
       "      <th>2</th>\n",
       "      <td>21.01</td>\n",
       "      <td>3.50</td>\n",
       "      <td>Male</td>\n",
       "      <td>No</td>\n",
       "      <td>Sun</td>\n",
       "      <td>Dinner</td>\n",
       "      <td>3</td>\n",
       "    </tr>\n",
       "    <tr>\n",
       "      <th>3</th>\n",
       "      <td>23.68</td>\n",
       "      <td>3.31</td>\n",
       "      <td>Male</td>\n",
       "      <td>No</td>\n",
       "      <td>Sun</td>\n",
       "      <td>Dinner</td>\n",
       "      <td>2</td>\n",
       "    </tr>\n",
       "    <tr>\n",
       "      <th>4</th>\n",
       "      <td>24.59</td>\n",
       "      <td>3.61</td>\n",
       "      <td>Female</td>\n",
       "      <td>No</td>\n",
       "      <td>Sun</td>\n",
       "      <td>Dinner</td>\n",
       "      <td>4</td>\n",
       "    </tr>\n",
       "  </tbody>\n",
       "</table>\n",
       "</div>"
      ],
      "text/plain": [
       "   total_bill   tip     sex smoker  day    time  size\n",
       "0       16.99  1.01  Female     No  Sun  Dinner     2\n",
       "1       10.34  1.66    Male     No  Sun  Dinner     3\n",
       "2       21.01  3.50    Male     No  Sun  Dinner     3\n",
       "3       23.68  3.31    Male     No  Sun  Dinner     2\n",
       "4       24.59  3.61  Female     No  Sun  Dinner     4"
      ]
     },
     "execution_count": 39,
     "metadata": {},
     "output_type": "execute_result"
    }
   ],
   "source": [
    "tips.head()"
   ]
  },
  {
   "cell_type": "code",
   "execution_count": 40,
   "id": "9e980374",
   "metadata": {},
   "outputs": [
    {
     "name": "stdout",
     "output_type": "stream",
     "text": [
      "<class 'pandas.core.frame.DataFrame'>\n",
      "RangeIndex: 244 entries, 0 to 243\n",
      "Data columns (total 7 columns):\n",
      " #   Column      Non-Null Count  Dtype   \n",
      "---  ------      --------------  -----   \n",
      " 0   total_bill  244 non-null    float64 \n",
      " 1   tip         244 non-null    float64 \n",
      " 2   sex         244 non-null    category\n",
      " 3   smoker      244 non-null    category\n",
      " 4   day         244 non-null    category\n",
      " 5   time        244 non-null    category\n",
      " 6   size        244 non-null    int64   \n",
      "dtypes: category(4), float64(2), int64(1)\n",
      "memory usage: 7.4 KB\n"
     ]
    }
   ],
   "source": [
    "tips.info()"
   ]
  },
  {
   "cell_type": "code",
   "execution_count": 41,
   "id": "9b69ada4",
   "metadata": {},
   "outputs": [
    {
     "data": {
      "text/html": [
       "<div>\n",
       "<style scoped>\n",
       "    .dataframe tbody tr th:only-of-type {\n",
       "        vertical-align: middle;\n",
       "    }\n",
       "\n",
       "    .dataframe tbody tr th {\n",
       "        vertical-align: top;\n",
       "    }\n",
       "\n",
       "    .dataframe thead th {\n",
       "        text-align: right;\n",
       "    }\n",
       "</style>\n",
       "<table border=\"1\" class=\"dataframe\">\n",
       "  <thead>\n",
       "    <tr style=\"text-align: right;\">\n",
       "      <th></th>\n",
       "      <th>total_bill</th>\n",
       "      <th>tip</th>\n",
       "      <th>size</th>\n",
       "    </tr>\n",
       "  </thead>\n",
       "  <tbody>\n",
       "    <tr>\n",
       "      <th>count</th>\n",
       "      <td>244.000000</td>\n",
       "      <td>244.000000</td>\n",
       "      <td>244.000000</td>\n",
       "    </tr>\n",
       "    <tr>\n",
       "      <th>mean</th>\n",
       "      <td>19.785943</td>\n",
       "      <td>2.998279</td>\n",
       "      <td>2.569672</td>\n",
       "    </tr>\n",
       "    <tr>\n",
       "      <th>std</th>\n",
       "      <td>8.902412</td>\n",
       "      <td>1.383638</td>\n",
       "      <td>0.951100</td>\n",
       "    </tr>\n",
       "    <tr>\n",
       "      <th>min</th>\n",
       "      <td>3.070000</td>\n",
       "      <td>1.000000</td>\n",
       "      <td>1.000000</td>\n",
       "    </tr>\n",
       "    <tr>\n",
       "      <th>25%</th>\n",
       "      <td>13.347500</td>\n",
       "      <td>2.000000</td>\n",
       "      <td>2.000000</td>\n",
       "    </tr>\n",
       "    <tr>\n",
       "      <th>50%</th>\n",
       "      <td>17.795000</td>\n",
       "      <td>2.900000</td>\n",
       "      <td>2.000000</td>\n",
       "    </tr>\n",
       "    <tr>\n",
       "      <th>75%</th>\n",
       "      <td>24.127500</td>\n",
       "      <td>3.562500</td>\n",
       "      <td>3.000000</td>\n",
       "    </tr>\n",
       "    <tr>\n",
       "      <th>max</th>\n",
       "      <td>50.810000</td>\n",
       "      <td>10.000000</td>\n",
       "      <td>6.000000</td>\n",
       "    </tr>\n",
       "  </tbody>\n",
       "</table>\n",
       "</div>"
      ],
      "text/plain": [
       "       total_bill         tip        size\n",
       "count  244.000000  244.000000  244.000000\n",
       "mean    19.785943    2.998279    2.569672\n",
       "std      8.902412    1.383638    0.951100\n",
       "min      3.070000    1.000000    1.000000\n",
       "25%     13.347500    2.000000    2.000000\n",
       "50%     17.795000    2.900000    2.000000\n",
       "75%     24.127500    3.562500    3.000000\n",
       "max     50.810000   10.000000    6.000000"
      ]
     },
     "execution_count": 41,
     "metadata": {},
     "output_type": "execute_result"
    }
   ],
   "source": [
    "tips.describe()"
   ]
  },
  {
   "cell_type": "code",
   "execution_count": 42,
   "id": "bbe199af",
   "metadata": {},
   "outputs": [
    {
     "name": "stderr",
     "output_type": "stream",
     "text": [
      "C:\\Users\\X1 Yoga\\anaconda3\\lib\\site-packages\\seaborn\\distributions.py:2619: FutureWarning: `distplot` is a deprecated function and will be removed in a future version. Please adapt your code to use either `displot` (a figure-level function with similar flexibility) or `histplot` (an axes-level function for histograms).\n",
      "  warnings.warn(msg, FutureWarning)\n"
     ]
    },
    {
     "data": {
      "text/plain": [
       "<AxesSubplot:xlabel='total_bill', ylabel='Density'>"
      ]
     },
     "execution_count": 42,
     "metadata": {},
     "output_type": "execute_result"
    },
    {
     "data": {
      "image/png": "[encoded data removed]",
      "text/plain": [
       "<Figure size 432x288 with 1 Axes>"
      ]
     },
     "metadata": {
      "needs_background": "light"
     },
     "output_type": "display_data"
    }
   ],
   "source": [
    "sns.distplot(tips['total_bill'])"
   ]
  },
  {
   "cell_type": "code",
   "execution_count": 43,
   "id": "19a24898",
   "metadata": {},
   "outputs": [
    {
     "data": {
      "text/plain": [
       "<AxesSubplot:ylabel='Frequency'>"
      ]
     },
     "execution_count": 43,
     "metadata": {},
     "output_type": "execute_result"
    },
    {
     "data": {
      "image/png": "[encoded data removed]",
      "text/plain": [
       "<Figure size 432x288 with 1 Axes>"
      ]
     },
     "metadata": {
      "needs_background": "light"
     },
     "output_type": "display_data"
    }
   ],
   "source": [
    "tips['total_bill'].plot(kind = 'hist')"
   ]
  },
  {
   "cell_type": "code",
   "execution_count": 44,
   "id": "1176ed02",
   "metadata": {},
   "outputs": [],
   "source": [
    "import numpy as np\n",
    "import matplotlib.pyplot as plt"
   ]
  },
  {
   "cell_type": "code",
   "execution_count": 45,
   "id": "c153ef17",
   "metadata": {},
   "outputs": [],
   "source": [
    "x = np.random.randint(10,100,10)"
   ]
  },
  {
   "cell_type": "code",
   "execution_count": 46,
   "id": "f6c2db62",
   "metadata": {},
   "outputs": [],
   "source": [
    "y = np.arange(0,10)"
   ]
  },
  {
   "cell_type": "code",
   "execution_count": 47,
   "id": "23282515",
   "metadata": {},
   "outputs": [
    {
     "name": "stdout",
     "output_type": "stream",
     "text": [
      "[36 97 26 81 25 15 63 83 52 79]\n",
      "[0 1 2 3 4 5 6 7 8 9]\n"
     ]
    }
   ],
   "source": [
    "print(x)\n",
    "print(y)"
   ]
  },
  {
   "cell_type": "code",
   "execution_count": 48,
   "id": "b3d98444",
   "metadata": {},
   "outputs": [
    {
     "data": {
      "image/png": "[encoded data removed]",
      "text/plain": [
       "<Figure size 432x288 with 1 Axes>"
      ]
     },
     "metadata": {
      "needs_background": "light"
     },
     "output_type": "display_data"
    }
   ],
   "source": [
    "plt.plot(x,y, '--o')\n",
    "plt.show()"
   ]
  },
  {
   "cell_type": "code",
   "execution_count": 49,
   "id": "2d46abc8",
   "metadata": {},
   "outputs": [],
   "source": [
    "x = y**2"
   ]
  },
  {
   "cell_type": "code",
   "execution_count": 50,
   "id": "57af7f63",
   "metadata": {},
   "outputs": [
    {
     "data": {
      "text/plain": [
       "array([ 0,  1,  4,  9, 16, 25, 36, 49, 64, 81])"
      ]
     },
     "execution_count": 50,
     "metadata": {},
     "output_type": "execute_result"
    }
   ],
   "source": [
    "x"
   ]
  },
  {
   "cell_type": "code",
   "execution_count": 51,
   "id": "d37a290e",
   "metadata": {},
   "outputs": [
    {
     "data": {
      "text/plain": [
       "array([0, 1, 2, 3, 4, 5, 6, 7, 8, 9])"
      ]
     },
     "execution_count": 51,
     "metadata": {},
     "output_type": "execute_result"
    }
   ],
   "source": [
    "y"
   ]
  },
  {
   "cell_type": "code",
   "execution_count": 52,
   "id": "9cd0613f",
   "metadata": {},
   "outputs": [
    {
     "data": {
      "text/plain": [
       "[<matplotlib.lines.Line2D at 0x2b2e5747760>]"
      ]
     },
     "execution_count": 52,
     "metadata": {},
     "output_type": "execute_result"
    },
    {
     "data": {
      "image/png": "[encoded data removed]",
      "text/plain": [
       "<Figure size 432x288 with 2 Axes>"
      ]
     },
     "metadata": {
      "needs_background": "light"
     },
     "output_type": "display_data"
    }
   ],
   "source": [
    "plt.subplot(1,2,1)\n",
    "plt.plot(y,x,'r', marker = 'o', markerfacecolor = 'y')\n",
    "\n",
    "plt.subplot(1,2,2)\n",
    "plt.plot(y,y**16, 'g', marker = 'x')"
   ]
  },
  {
   "cell_type": "code",
   "execution_count": 53,
   "id": "605a57ee",
   "metadata": {},
   "outputs": [
    {
     "data": {
      "image/png": "[encoded data removed]",
      "text/plain": [
       "<Figure size 432x288 with 1 Axes>"
      ]
     },
     "metadata": {
      "needs_background": "light"
     },
     "output_type": "display_data"
    }
   ],
   "source": [
    "fig3 = plt.figure()\n",
    "ax1 = fig3.add_axes([0.1, 0.1, 0.8, 0.8])\n",
    "ax1.plot(x, y, label = \"X vs Y\", \n",
    "         linewidth= 2, color = \"green\", marker = \"o\", markersize = 10, markerfacecolor = \"yellow\",\n",
    "         markeredgecolor = \"blue\")\n",
    "ax1.plot(y,x, label = \"Y vs X\", color = \"red\", alpha = 0.5, linestyle = \"dotted\")\n",
    "plt.legend(loc = 10)\n",
    "\n",
    "plt.show()\n",
    "# linewideth = lw\n",
    "# linestyle = ls \n",
    "# loc = 0 is 'best'\n",
    "# loc = (0.1, 0.1)"
   ]
  },
  {
   "cell_type": "code",
   "execution_count": 54,
   "id": "09e2beb1",
   "metadata": {},
   "outputs": [],
   "source": [
    "from scipy.stats import norm"
   ]
  },
  {
   "cell_type": "code",
   "execution_count": 55,
   "id": "8c8cb391",
   "metadata": {},
   "outputs": [],
   "source": [
    "mean = 0\n",
    "sd = 1"
   ]
  },
  {
   "cell_type": "code",
   "execution_count": 56,
   "id": "fc991e94",
   "metadata": {},
   "outputs": [],
   "source": [
    "x_values = np.arange(-10,10,0.1)"
   ]
  },
  {
   "cell_type": "code",
   "execution_count": 57,
   "id": "b53cfcee",
   "metadata": {},
   "outputs": [
    {
     "data": {
      "text/plain": [
       "array([-1.00000000e+01, -9.90000000e+00, -9.80000000e+00, -9.70000000e+00,\n",
       "       -9.60000000e+00, -9.50000000e+00, -9.40000000e+00, -9.30000000e+00,\n",
       "       -9.20000000e+00, -9.10000000e+00, -9.00000000e+00, -8.90000000e+00,\n",
       "       -8.80000000e+00, -8.70000000e+00, -8.60000000e+00, -8.50000000e+00,\n",
       "       -8.40000000e+00, -8.30000000e+00, -8.20000000e+00, -8.10000000e+00,\n",
       "       -8.00000000e+00, -7.90000000e+00, -7.80000000e+00, -7.70000000e+00,\n",
       "       -7.60000000e+00, -7.50000000e+00, -7.40000000e+00, -7.30000000e+00,\n",
       "       -7.20000000e+00, -7.10000000e+00, -7.00000000e+00, -6.90000000e+00,\n",
       "       -6.80000000e+00, -6.70000000e+00, -6.60000000e+00, -6.50000000e+00,\n",
       "       -6.40000000e+00, -6.30000000e+00, -6.20000000e+00, -6.10000000e+00,\n",
       "       -6.00000000e+00, -5.90000000e+00, -5.80000000e+00, -5.70000000e+00,\n",
       "       -5.60000000e+00, -5.50000000e+00, -5.40000000e+00, -5.30000000e+00,\n",
       "       -5.20000000e+00, -5.10000000e+00, -5.00000000e+00, -4.90000000e+00,\n",
       "       -4.80000000e+00, -4.70000000e+00, -4.60000000e+00, -4.50000000e+00,\n",
       "       -4.40000000e+00, -4.30000000e+00, -4.20000000e+00, -4.10000000e+00,\n",
       "       -4.00000000e+00, -3.90000000e+00, -3.80000000e+00, -3.70000000e+00,\n",
       "       -3.60000000e+00, -3.50000000e+00, -3.40000000e+00, -3.30000000e+00,\n",
       "       -3.20000000e+00, -3.10000000e+00, -3.00000000e+00, -2.90000000e+00,\n",
       "       -2.80000000e+00, -2.70000000e+00, -2.60000000e+00, -2.50000000e+00,\n",
       "       -2.40000000e+00, -2.30000000e+00, -2.20000000e+00, -2.10000000e+00,\n",
       "       -2.00000000e+00, -1.90000000e+00, -1.80000000e+00, -1.70000000e+00,\n",
       "       -1.60000000e+00, -1.50000000e+00, -1.40000000e+00, -1.30000000e+00,\n",
       "       -1.20000000e+00, -1.10000000e+00, -1.00000000e+00, -9.00000000e-01,\n",
       "       -8.00000000e-01, -7.00000000e-01, -6.00000000e-01, -5.00000000e-01,\n",
       "       -4.00000000e-01, -3.00000000e-01, -2.00000000e-01, -1.00000000e-01,\n",
       "       -3.55271368e-14,  1.00000000e-01,  2.00000000e-01,  3.00000000e-01,\n",
       "        4.00000000e-01,  5.00000000e-01,  6.00000000e-01,  7.00000000e-01,\n",
       "        8.00000000e-01,  9.00000000e-01,  1.00000000e+00,  1.10000000e+00,\n",
       "        1.20000000e+00,  1.30000000e+00,  1.40000000e+00,  1.50000000e+00,\n",
       "        1.60000000e+00,  1.70000000e+00,  1.80000000e+00,  1.90000000e+00,\n",
       "        2.00000000e+00,  2.10000000e+00,  2.20000000e+00,  2.30000000e+00,\n",
       "        2.40000000e+00,  2.50000000e+00,  2.60000000e+00,  2.70000000e+00,\n",
       "        2.80000000e+00,  2.90000000e+00,  3.00000000e+00,  3.10000000e+00,\n",
       "        3.20000000e+00,  3.30000000e+00,  3.40000000e+00,  3.50000000e+00,\n",
       "        3.60000000e+00,  3.70000000e+00,  3.80000000e+00,  3.90000000e+00,\n",
       "        4.00000000e+00,  4.10000000e+00,  4.20000000e+00,  4.30000000e+00,\n",
       "        4.40000000e+00,  4.50000000e+00,  4.60000000e+00,  4.70000000e+00,\n",
       "        4.80000000e+00,  4.90000000e+00,  5.00000000e+00,  5.10000000e+00,\n",
       "        5.20000000e+00,  5.30000000e+00,  5.40000000e+00,  5.50000000e+00,\n",
       "        5.60000000e+00,  5.70000000e+00,  5.80000000e+00,  5.90000000e+00,\n",
       "        6.00000000e+00,  6.10000000e+00,  6.20000000e+00,  6.30000000e+00,\n",
       "        6.40000000e+00,  6.50000000e+00,  6.60000000e+00,  6.70000000e+00,\n",
       "        6.80000000e+00,  6.90000000e+00,  7.00000000e+00,  7.10000000e+00,\n",
       "        7.20000000e+00,  7.30000000e+00,  7.40000000e+00,  7.50000000e+00,\n",
       "        7.60000000e+00,  7.70000000e+00,  7.80000000e+00,  7.90000000e+00,\n",
       "        8.00000000e+00,  8.10000000e+00,  8.20000000e+00,  8.30000000e+00,\n",
       "        8.40000000e+00,  8.50000000e+00,  8.60000000e+00,  8.70000000e+00,\n",
       "        8.80000000e+00,  8.90000000e+00,  9.00000000e+00,  9.10000000e+00,\n",
       "        9.20000000e+00,  9.30000000e+00,  9.40000000e+00,  9.50000000e+00,\n",
       "        9.60000000e+00,  9.70000000e+00,  9.80000000e+00,  9.90000000e+00])"
      ]
     },
     "execution_count": 57,
     "metadata": {},
     "output_type": "execute_result"
    }
   ],
   "source": [
    "x_values"
   ]
  },
  {
   "cell_type": "code",
   "execution_count": 58,
   "id": "1307be0e",
   "metadata": {},
   "outputs": [
    {
     "data": {
      "text/plain": [
       "[<matplotlib.lines.Line2D at 0x2b2e5858310>]"
      ]
     },
     "execution_count": 58,
     "metadata": {},
     "output_type": "execute_result"
    },
    {
     "data": {
      "image/png": "[encoded data removed]",
      "text/plain": [
       "<Figure size 432x288 with 1 Axes>"
      ]
     },
     "metadata": {
      "needs_background": "light"
     },
     "output_type": "display_data"
    }
   ],
   "source": [
    "plt.plot(x,y)"
   ]
  },
  {
   "cell_type": "code",
   "execution_count": 59,
   "id": "8a745e98",
   "metadata": {},
   "outputs": [
    {
     "data": {
      "text/plain": [
       "array([7.69459863e-23, 2.08117682e-22, 5.57300002e-22, 1.47749549e-21,\n",
       "       3.87811193e-21, 1.00779354e-20, 2.59286470e-20, 6.60457986e-20,\n",
       "       1.66558803e-19, 4.15859898e-19, 1.02797736e-18, 2.51580578e-18,\n",
       "       6.09575813e-18, 1.46229636e-17, 3.47296275e-17, 8.16623563e-17,\n",
       "       1.90108154e-16, 4.38163944e-16, 9.99837875e-16, 2.25880940e-15,\n",
       "       5.05227108e-15, 1.11879562e-14, 2.45285529e-14, 5.32414837e-14,\n",
       "       1.14415649e-13, 2.43432053e-13, 5.12775364e-13, 1.06938379e-12,\n",
       "       2.20798996e-12, 4.51354368e-12, 9.13472041e-12, 1.83033222e-11,\n",
       "       3.63096150e-11, 7.13132812e-11, 1.38667999e-10, 2.66955661e-10,\n",
       "       5.08814028e-10, 9.60143337e-10, 1.79378391e-09, 3.31788424e-09,\n",
       "       6.07588285e-09, 1.10157636e-08, 1.97731964e-08, 3.51395509e-08,\n",
       "       6.18262050e-08, 1.07697600e-07, 1.85736184e-07, 3.17134922e-07,\n",
       "       5.36103534e-07, 8.97243516e-07, 1.48671951e-06, 2.43896075e-06,\n",
       "       3.96129909e-06, 6.36982518e-06, 1.01408521e-05, 1.59837411e-05,\n",
       "       2.49424713e-05, 3.85351967e-05, 5.89430678e-05, 8.92616572e-05,\n",
       "       1.33830226e-04, 1.98655471e-04, 2.91946926e-04, 4.24780271e-04,\n",
       "       6.11901930e-04, 8.72682695e-04, 1.23221917e-03, 1.72256894e-03,\n",
       "       2.38408820e-03, 3.26681906e-03, 4.43184841e-03, 5.95253242e-03,\n",
       "       7.91545158e-03, 1.04209348e-02, 1.35829692e-02, 1.75283005e-02,\n",
       "       2.23945303e-02, 2.83270377e-02, 3.54745928e-02, 4.39835960e-02,\n",
       "       5.39909665e-02, 6.56158148e-02, 7.89501583e-02, 9.40490774e-02,\n",
       "       1.10920835e-01, 1.29517596e-01, 1.49727466e-01, 1.71368592e-01,\n",
       "       1.94186055e-01, 2.17852177e-01, 2.41970725e-01, 2.66085250e-01,\n",
       "       2.89691553e-01, 3.12253933e-01, 3.33224603e-01, 3.52065327e-01,\n",
       "       3.68270140e-01, 3.81387815e-01, 3.91042694e-01, 3.96952547e-01,\n",
       "       3.98942280e-01, 3.96952547e-01, 3.91042694e-01, 3.81387815e-01,\n",
       "       3.68270140e-01, 3.52065327e-01, 3.33224603e-01, 3.12253933e-01,\n",
       "       2.89691553e-01, 2.66085250e-01, 2.41970725e-01, 2.17852177e-01,\n",
       "       1.94186055e-01, 1.71368592e-01, 1.49727466e-01, 1.29517596e-01,\n",
       "       1.10920835e-01, 9.40490774e-02, 7.89501583e-02, 6.56158148e-02,\n",
       "       5.39909665e-02, 4.39835960e-02, 3.54745928e-02, 2.83270377e-02,\n",
       "       2.23945303e-02, 1.75283005e-02, 1.35829692e-02, 1.04209348e-02,\n",
       "       7.91545158e-03, 5.95253242e-03, 4.43184841e-03, 3.26681906e-03,\n",
       "       2.38408820e-03, 1.72256894e-03, 1.23221917e-03, 8.72682695e-04,\n",
       "       6.11901930e-04, 4.24780271e-04, 2.91946926e-04, 1.98655471e-04,\n",
       "       1.33830226e-04, 8.92616572e-05, 5.89430678e-05, 3.85351967e-05,\n",
       "       2.49424713e-05, 1.59837411e-05, 1.01408521e-05, 6.36982518e-06,\n",
       "       3.96129909e-06, 2.43896075e-06, 1.48671951e-06, 8.97243516e-07,\n",
       "       5.36103534e-07, 3.17134922e-07, 1.85736184e-07, 1.07697600e-07,\n",
       "       6.18262050e-08, 3.51395509e-08, 1.97731964e-08, 1.10157636e-08,\n",
       "       6.07588285e-09, 3.31788424e-09, 1.79378391e-09, 9.60143337e-10,\n",
       "       5.08814028e-10, 2.66955661e-10, 1.38667999e-10, 7.13132812e-11,\n",
       "       3.63096150e-11, 1.83033222e-11, 9.13472041e-12, 4.51354368e-12,\n",
       "       2.20798996e-12, 1.06938379e-12, 5.12775364e-13, 2.43432053e-13,\n",
       "       1.14415649e-13, 5.32414837e-14, 2.45285529e-14, 1.11879562e-14,\n",
       "       5.05227108e-15, 2.25880940e-15, 9.99837875e-16, 4.38163944e-16,\n",
       "       1.90108154e-16, 8.16623563e-17, 3.47296275e-17, 1.46229636e-17,\n",
       "       6.09575813e-18, 2.51580578e-18, 1.02797736e-18, 4.15859898e-19,\n",
       "       1.66558803e-19, 6.60457986e-20, 2.59286470e-20, 1.00779354e-20,\n",
       "       3.87811193e-21, 1.47749549e-21, 5.57300002e-22, 2.08117682e-22])"
      ]
     },
     "execution_count": 59,
     "metadata": {},
     "output_type": "execute_result"
    }
   ],
   "source": [
    "norm.pdf(x_values, mean, sd)"
   ]
  },
  {
   "cell_type": "code",
   "execution_count": 60,
   "id": "e05aad10",
   "metadata": {},
   "outputs": [
    {
     "data": {
      "text/plain": [
       "[<matplotlib.lines.Line2D at 0x2b2e5683400>]"
      ]
     },
     "execution_count": 60,
     "metadata": {},
     "output_type": "execute_result"
    },
    {
     "data": {
      "image/png": "[encoded data removed]",
      "text/plain": [
       "<Figure size 432x288 with 1 Axes>"
      ]
     },
     "metadata": {
      "needs_background": "light"
     },
     "output_type": "display_data"
    }
   ],
   "source": [
    "plt.plot(x_values, norm.pdf(x_values, mean, sd)) # Plotting Normal Distribution"
   ]
  },
  {
   "cell_type": "code",
   "execution_count": 61,
   "id": "5b1f9f50",
   "metadata": {},
   "outputs": [],
   "source": [
    "from scipy.stats import binom # Binomial Distribution"
   ]
  },
  {
   "cell_type": "code",
   "execution_count": 62,
   "id": "2bd8a15b",
   "metadata": {},
   "outputs": [],
   "source": [
    "x = np.arange(0,21)"
   ]
  },
  {
   "cell_type": "code",
   "execution_count": 63,
   "id": "63e6f817",
   "metadata": {},
   "outputs": [],
   "source": [
    "p = 0.6\n",
    "n = 20"
   ]
  },
  {
   "cell_type": "code",
   "execution_count": 64,
   "id": "39376ff3",
   "metadata": {},
   "outputs": [
    {
     "data": {
      "text/plain": [
       "array([1.09951163e-08, 3.29853488e-07, 4.70041221e-06, 4.23037099e-05,\n",
       "       2.69686150e-04, 1.29449352e-03, 4.85435071e-03, 1.45630521e-02,\n",
       "       3.54974396e-02, 7.09948791e-02, 1.17141551e-01, 1.59738478e-01,\n",
       "       1.79705788e-01, 1.65882266e-01, 1.24411699e-01, 7.46470195e-02,\n",
       "       3.49907904e-02, 1.23496907e-02, 3.08742268e-03, 4.87487792e-04,\n",
       "       3.65615844e-05])"
      ]
     },
     "execution_count": 64,
     "metadata": {},
     "output_type": "execute_result"
    }
   ],
   "source": [
    "binom.pmf(x,n,p)"
   ]
  },
  {
   "cell_type": "code",
   "execution_count": 65,
   "id": "08da1b9a",
   "metadata": {},
   "outputs": [
    {
     "data": {
      "text/plain": [
       "[<matplotlib.lines.Line2D at 0x2b2e58c2970>]"
      ]
     },
     "execution_count": 65,
     "metadata": {},
     "output_type": "execute_result"
    },
    {
     "data": {
      "image/png": "[encoded data removed]",
      "text/plain": [
       "<Figure size 432x288 with 1 Axes>"
      ]
     },
     "metadata": {
      "needs_background": "light"
     },
     "output_type": "display_data"
    }
   ],
   "source": [
    "plt.plot(x, binom.pmf(x,n,p))"
   ]
  },
  {
   "cell_type": "code",
   "execution_count": 66,
   "id": "1dc70e89",
   "metadata": {},
   "outputs": [],
   "source": [
    "x = np.arange(10)"
   ]
  },
  {
   "cell_type": "code",
   "execution_count": 67,
   "id": "370c4572",
   "metadata": {},
   "outputs": [],
   "source": [
    "lambda_ = 2"
   ]
  },
  {
   "cell_type": "code",
   "execution_count": 68,
   "id": "577aa898",
   "metadata": {},
   "outputs": [],
   "source": [
    "from scipy.stats import poisson"
   ]
  },
  {
   "cell_type": "code",
   "execution_count": 69,
   "id": "e7e04cf5",
   "metadata": {},
   "outputs": [
    {
     "data": {
      "text/plain": [
       "[<matplotlib.lines.Line2D at 0x2b2e5940130>]"
      ]
     },
     "execution_count": 69,
     "metadata": {},
     "output_type": "execute_result"
    },
    {
     "data": {
      "image/png": "[encoded data removed]",
      "text/plain": [
       "<Figure size 432x288 with 1 Axes>"
      ]
     },
     "metadata": {
      "needs_background": "light"
     },
     "output_type": "display_data"
    }
   ],
   "source": [
    "plt.plot(x, poisson.pmf(x,lambda_), '--o')"
   ]
  },
  {
   "cell_type": "code",
   "execution_count": 70,
   "id": "33f7d4d9",
   "metadata": {},
   "outputs": [],
   "source": [
    "mean = 100\n",
    "std = 5\n",
    "n = 1000\n",
    "\n",
    "values = np.random.normal(mean, std, n)"
   ]
  },
  {
   "cell_type": "code",
   "execution_count": 71,
   "id": "55b71af9",
   "metadata": {},
   "outputs": [
    {
     "data": {
      "image/png": "[encoded data removed]",
      "text/plain": [
       "<Figure size 432x288 with 1 Axes>"
      ]
     },
     "metadata": {
      "needs_background": "light"
     },
     "output_type": "display_data"
    }
   ],
   "source": [
    "plt.hist(values,25)\n",
    "plt.show()"
   ]
  },
  {
   "cell_type": "markdown",
   "id": "6bfa3a5b",
   "metadata": {},
   "source": [
    "## Hypothesis Testing <span style=\"color: red;\">Inferential Statistics</span> "
   ]
  },
  {
   "cell_type": "code",
   "execution_count": 72,
   "id": "172989c3",
   "metadata": {},
   "outputs": [],
   "source": [
    "import scipy.stats as stats\n",
    "from scipy.stats import ttest_1samp"
   ]
  },
  {
   "cell_type": "code",
   "execution_count": 73,
   "id": "ef1b280d",
   "metadata": {},
   "outputs": [],
   "source": [
    "import seaborn as sns\n",
    "import numpy as np"
   ]
  },
  {
   "cell_type": "code",
   "execution_count": 74,
   "id": "a6574204",
   "metadata": {},
   "outputs": [],
   "source": [
    "tips = sns.load_dataset('tips')"
   ]
  },
  {
   "cell_type": "code",
   "execution_count": 75,
   "id": "165ca89f",
   "metadata": {},
   "outputs": [],
   "source": [
    "pop_mean = tips['total_bill'].mean()"
   ]
  },
  {
   "cell_type": "code",
   "execution_count": 76,
   "id": "ee9a236f",
   "metadata": {},
   "outputs": [],
   "source": [
    "sample = tips['total_bill'].iloc[203:243]"
   ]
  },
  {
   "cell_type": "code",
   "execution_count": 77,
   "id": "e61a38d5",
   "metadata": {},
   "outputs": [
    {
     "data": {
      "text/plain": [
       "20.085"
      ]
     },
     "execution_count": 77,
     "metadata": {},
     "output_type": "execute_result"
    }
   ],
   "source": [
    "sample.mean()"
   ]
  },
  {
   "cell_type": "code",
   "execution_count": 78,
   "id": "c617cfbc",
   "metadata": {},
   "outputs": [
    {
     "data": {
      "text/plain": [
       "19.785942622950824"
      ]
     },
     "execution_count": 78,
     "metadata": {},
     "output_type": "execute_result"
    }
   ],
   "source": [
    "pop_mean"
   ]
  },
  {
   "cell_type": "code",
   "execution_count": 79,
   "id": "ca40e3b5",
   "metadata": {},
   "outputs": [],
   "source": [
    "t_statistic, p_value = ttest_1samp(sample, pop_mean)"
   ]
  },
  {
   "cell_type": "code",
   "execution_count": 80,
   "id": "1dcccca0",
   "metadata": {},
   "outputs": [
    {
     "data": {
      "text/plain": [
       "0.8396347248847695"
      ]
     },
     "execution_count": 80,
     "metadata": {},
     "output_type": "execute_result"
    }
   ],
   "source": [
    "p_value"
   ]
  },
  {
   "cell_type": "code",
   "execution_count": 81,
   "id": "29d0a843",
   "metadata": {},
   "outputs": [
    {
     "name": "stdout",
     "output_type": "stream",
     "text": [
      "0.20371598500370655\n"
     ]
    }
   ],
   "source": [
    "print(t_statistic)"
   ]
  },
  {
   "cell_type": "markdown",
   "id": "5377b4ac",
   "metadata": {},
   "source": [
    "### p_value = 0.839 and p_value > 0.05"
   ]
  },
  {
   "cell_type": "markdown",
   "id": "9c01d0c7",
   "metadata": {},
   "source": [
    "## Accept Null Hypothesis"
   ]
  },
  {
   "cell_type": "code",
   "execution_count": 82,
   "id": "6e7396a6",
   "metadata": {},
   "outputs": [],
   "source": [
    "iris = sns.load_dataset('iris')"
   ]
  },
  {
   "cell_type": "code",
   "execution_count": 83,
   "id": "f92502dc",
   "metadata": {},
   "outputs": [
    {
     "data": {
      "text/plain": [
       "array(['setosa', 'versicolor', 'virginica'], dtype=object)"
      ]
     },
     "execution_count": 83,
     "metadata": {},
     "output_type": "execute_result"
    }
   ],
   "source": [
    "iris['species'].unique()"
   ]
  },
  {
   "cell_type": "code",
   "execution_count": 84,
   "id": "3b62e021",
   "metadata": {},
   "outputs": [],
   "source": [
    "setosa = iris[iris['species'] == 'setosa']"
   ]
  },
  {
   "cell_type": "code",
   "execution_count": 85,
   "id": "4b009c8f",
   "metadata": {},
   "outputs": [],
   "source": [
    "sample = setosa['sepal_length']"
   ]
  },
  {
   "cell_type": "code",
   "execution_count": 86,
   "id": "6e258cac",
   "metadata": {},
   "outputs": [
    {
     "data": {
      "text/plain": [
       "5.843333333333335"
      ]
     },
     "execution_count": 86,
     "metadata": {},
     "output_type": "execute_result"
    }
   ],
   "source": [
    "pop_mean = iris['sepal_length'].mean()\n",
    "pop_mean"
   ]
  },
  {
   "cell_type": "code",
   "execution_count": 87,
   "id": "61552241",
   "metadata": {},
   "outputs": [],
   "source": [
    "t_stat, p_value = ttest_1samp(sample, pop_mean)"
   ]
  },
  {
   "cell_type": "code",
   "execution_count": 88,
   "id": "ab27006d",
   "metadata": {},
   "outputs": [
    {
     "data": {
      "text/plain": [
       "5.718172526750854e-22"
      ]
     },
     "execution_count": 88,
     "metadata": {},
     "output_type": "execute_result"
    }
   ],
   "source": [
    "p_value ## Reject null hypo.\n",
    "\n",
    "# There is significant difference."
   ]
  },
  {
   "cell_type": "code",
   "execution_count": 89,
   "id": "522a58a8",
   "metadata": {},
   "outputs": [
    {
     "data": {
      "text/plain": [
       "5.005999999999999"
      ]
     },
     "execution_count": 89,
     "metadata": {},
     "output_type": "execute_result"
    }
   ],
   "source": [
    "sample.mean()"
   ]
  },
  {
   "cell_type": "code",
   "execution_count": 90,
   "id": "b8e1bbf7",
   "metadata": {},
   "outputs": [],
   "source": [
    "ti = sns.load_dataset('titanic')"
   ]
  },
  {
   "cell_type": "code",
   "execution_count": 91,
   "id": "cf5ee7b0",
   "metadata": {},
   "outputs": [],
   "source": [
    "three = ti[ti['pclass'] == 3]"
   ]
  },
  {
   "cell_type": "code",
   "execution_count": 92,
   "id": "2a204f0b",
   "metadata": {},
   "outputs": [],
   "source": [
    "sam = three['age'].dropna()"
   ]
  },
  {
   "cell_type": "code",
   "execution_count": 93,
   "id": "73397944",
   "metadata": {},
   "outputs": [],
   "source": [
    "result = ttest_1samp(sam,ti['age'].mean())"
   ]
  },
  {
   "cell_type": "code",
   "execution_count": 94,
   "id": "8d8ecdfd",
   "metadata": {},
   "outputs": [
    {
     "data": {
      "text/plain": [
       "2.8358846134185293e-11"
      ]
     },
     "execution_count": 94,
     "metadata": {},
     "output_type": "execute_result"
    }
   ],
   "source": [
    "result.pvalue"
   ]
  },
  {
   "cell_type": "code",
   "execution_count": 95,
   "id": "e6a7da98",
   "metadata": {},
   "outputs": [
    {
     "data": {
      "text/plain": [
       "25.14061971830986"
      ]
     },
     "execution_count": 95,
     "metadata": {},
     "output_type": "execute_result"
    }
   ],
   "source": [
    "three['age'].mean()"
   ]
  },
  {
   "cell_type": "code",
   "execution_count": 96,
   "id": "1802bb6d",
   "metadata": {},
   "outputs": [
    {
     "data": {
      "text/plain": [
       "29.69911764705882"
      ]
     },
     "execution_count": 96,
     "metadata": {},
     "output_type": "execute_result"
    }
   ],
   "source": [
    "ti['age'].mean()"
   ]
  },
  {
   "cell_type": "markdown",
   "id": "3e41cf8b",
   "metadata": {},
   "source": [
    "## Two Sample T-test"
   ]
  },
  {
   "cell_type": "code",
   "execution_count": 164,
   "id": "edcf5fd6",
   "metadata": {},
   "outputs": [],
   "source": [
    "first = ti[ti['pclass'] == 1]"
   ]
  },
  {
   "cell_type": "code",
   "execution_count": 163,
   "id": "b3011231",
   "metadata": {},
   "outputs": [],
   "source": [
    "second = ti[ti['pclass'] == 2]\n",
    "third = ti[ti['pclass'] == 3]"
   ]
  },
  {
   "cell_type": "code",
   "execution_count": 99,
   "id": "00bb9f4a",
   "metadata": {},
   "outputs": [],
   "source": [
    "from scipy.stats import ttest_ind"
   ]
  },
  {
   "cell_type": "code",
   "execution_count": 100,
   "id": "5ed14a5b",
   "metadata": {},
   "outputs": [
    {
     "data": {
      "text/plain": [
       "1      38.0\n",
       "3      35.0\n",
       "6      54.0\n",
       "11     58.0\n",
       "23     28.0\n",
       "       ... \n",
       "871    47.0\n",
       "872    33.0\n",
       "879    56.0\n",
       "887    19.0\n",
       "889    26.0\n",
       "Name: age, Length: 186, dtype: float64"
      ]
     },
     "execution_count": 100,
     "metadata": {},
     "output_type": "execute_result"
    }
   ],
   "source": [
    "first['age'].dropna()"
   ]
  },
  {
   "cell_type": "code",
   "execution_count": 101,
   "id": "e21d7a84",
   "metadata": {},
   "outputs": [],
   "source": [
    "t_stat, p_value = ttest_ind(first['age'].dropna(), second['age'].dropna())"
   ]
  },
  {
   "cell_type": "code",
   "execution_count": 102,
   "id": "2253786c",
   "metadata": {},
   "outputs": [
    {
     "data": {
      "text/plain": [
       "7.835568991415144e-08"
      ]
     },
     "execution_count": 102,
     "metadata": {},
     "output_type": "execute_result"
    }
   ],
   "source": [
    "p_value # pvalue is less than 0.05"
   ]
  },
  {
   "cell_type": "markdown",
   "id": "2c848b98",
   "metadata": {},
   "source": [
    "### Reject Null Hypotheis"
   ]
  },
  {
   "cell_type": "code",
   "execution_count": 104,
   "id": "de9f71b4",
   "metadata": {},
   "outputs": [
    {
     "data": {
      "text/plain": [
       "38.233440860215055"
      ]
     },
     "execution_count": 104,
     "metadata": {},
     "output_type": "execute_result"
    }
   ],
   "source": [
    "np.mean(first['age'])"
   ]
  },
  {
   "cell_type": "code",
   "execution_count": 105,
   "id": "7eb154bb",
   "metadata": {},
   "outputs": [
    {
     "data": {
      "text/plain": [
       "29.87763005780347"
      ]
     },
     "execution_count": 105,
     "metadata": {},
     "output_type": "execute_result"
    }
   ],
   "source": [
    "np.mean(second['age'])"
   ]
  },
  {
   "cell_type": "code",
   "execution_count": 106,
   "id": "a8c05411",
   "metadata": {},
   "outputs": [
    {
     "data": {
      "text/plain": [
       "8.355810802411586"
      ]
     },
     "execution_count": 106,
     "metadata": {},
     "output_type": "execute_result"
    }
   ],
   "source": [
    "np.mean(first['age'])-np.mean(second['age'])"
   ]
  },
  {
   "cell_type": "markdown",
   "id": "76092ffb",
   "metadata": {},
   "source": [
    "## Paired T-test"
   ]
  },
  {
   "cell_type": "code",
   "execution_count": 120,
   "id": "a8d22bbd",
   "metadata": {},
   "outputs": [],
   "source": [
    "from scipy.stats import ttest_rel"
   ]
  },
  {
   "cell_type": "code",
   "execution_count": 150,
   "id": "6cf529e4",
   "metadata": {},
   "outputs": [],
   "source": [
    "# pre holds the mileage before applying\n",
    "# the different engine oil\n",
    "pre = [88, 82, 84, 93, 75, 78, 84, 87,\n",
    "       95, 91, 83, 89, 77, 68, 91]\n",
    "  \n",
    "# post holds the mileage before applying \n",
    "# the different engine oil\n",
    "post = [91, 84, 88, 90, 79, 80, 88, 90, \n",
    "        90, 96, 88, 89, 81, 74, 92]"
   ]
  },
  {
   "cell_type": "code",
   "execution_count": 151,
   "id": "a581f001",
   "metadata": {},
   "outputs": [
    {
     "name": "stdout",
     "output_type": "stream",
     "text": [
      "0.01007144862643272\n",
      "Reject Null Hypothesis, there is siginificant difference.\n"
     ]
    }
   ],
   "source": [
    "t_stat, pval = ttest_rel(pre, post)\n",
    "\n",
    "print(pval)\n",
    "\n",
    "if pval > 0.05:\n",
    "    print('Accept Null Hypothesis, no significant difference.')\n",
    "else:\n",
    "    print('Reject Null Hypothesis, there is siginificant difference.')"
   ]
  },
  {
   "cell_type": "code",
   "execution_count": 156,
   "id": "1fcde19e",
   "metadata": {},
   "outputs": [],
   "source": [
    "before = [2,3]\n",
    "after = [3,4]"
   ]
  },
  {
   "cell_type": "code",
   "execution_count": 160,
   "id": "59d0498f",
   "metadata": {},
   "outputs": [
    {
     "name": "stdout",
     "output_type": "stream",
     "text": [
      "0.0\n",
      "Reject Null Hypothesis, there is siginificant difference.\n"
     ]
    }
   ],
   "source": [
    "t_stat, pval = ttest_rel(before, after)\n",
    "\n",
    "print(pval)\n",
    "\n",
    "if pval > 0.05:\n",
    "    print('Accept Null Hypothesis, no significant difference.')\n",
    "else:\n",
    "    print('Reject Null Hypothesis, there is siginificant difference.')"
   ]
  },
  {
   "cell_type": "markdown",
   "id": "f8427add",
   "metadata": {},
   "source": [
    "## ANOVA"
   ]
  },
  {
   "cell_type": "code",
   "execution_count": 161,
   "id": "65400f46",
   "metadata": {},
   "outputs": [],
   "source": [
    "from scipy.stats import f_gen"
   ]
  },
  {
   "cell_type": "code",
   "execution_count": 167,
   "id": "e533c412",
   "metadata": {},
   "outputs": [
    {
     "data": {
      "text/plain": [
       "F_onewayResult(statistic=30.087283849424576, pvalue=7.835568991415769e-08)"
      ]
     },
     "execution_count": 167,
     "metadata": {},
     "output_type": "execute_result"
    }
   ],
   "source": [
    "f_oneway(first['age'].dropna(),second['age'].dropna())"
   ]
  },
  {
   "cell_type": "markdown",
   "id": "8e5fd566",
   "metadata": {},
   "source": [
    "### There is a siginificant difference between the samples."
   ]
  },
  {
   "cell_type": "markdown",
   "id": "7ef52807",
   "metadata": {},
   "source": [
    "## Chi-Sq Test"
   ]
  },
  {
   "cell_type": "code",
   "execution_count": 1,
   "id": "5fcdab25",
   "metadata": {},
   "outputs": [],
   "source": [
    "import seaborn as sns\n",
    "titanic = sns.load_dataset('Titanic')"
   ]
  },
  {
   "cell_type": "code",
   "execution_count": 2,
   "id": "2fe4934d",
   "metadata": {},
   "outputs": [
    {
     "data": {
      "text/html": [
       "<div>\n",
       "<style scoped>\n",
       "    .dataframe tbody tr th:only-of-type {\n",
       "        vertical-align: middle;\n",
       "    }\n",
       "\n",
       "    .dataframe tbody tr th {\n",
       "        vertical-align: top;\n",
       "    }\n",
       "\n",
       "    .dataframe thead th {\n",
       "        text-align: right;\n",
       "    }\n",
       "</style>\n",
       "<table border=\"1\" class=\"dataframe\">\n",
       "  <thead>\n",
       "    <tr style=\"text-align: right;\">\n",
       "      <th></th>\n",
       "      <th>survived</th>\n",
       "      <th>pclass</th>\n",
       "      <th>sex</th>\n",
       "      <th>age</th>\n",
       "      <th>sibsp</th>\n",
       "      <th>parch</th>\n",
       "      <th>fare</th>\n",
       "      <th>embarked</th>\n",
       "      <th>class</th>\n",
       "      <th>who</th>\n",
       "      <th>adult_male</th>\n",
       "      <th>deck</th>\n",
       "      <th>embark_town</th>\n",
       "      <th>alive</th>\n",
       "      <th>alone</th>\n",
       "    </tr>\n",
       "  </thead>\n",
       "  <tbody>\n",
       "    <tr>\n",
       "      <th>0</th>\n",
       "      <td>0</td>\n",
       "      <td>3</td>\n",
       "      <td>male</td>\n",
       "      <td>22.0</td>\n",
       "      <td>1</td>\n",
       "      <td>0</td>\n",
       "      <td>7.2500</td>\n",
       "      <td>S</td>\n",
       "      <td>Third</td>\n",
       "      <td>man</td>\n",
       "      <td>True</td>\n",
       "      <td>NaN</td>\n",
       "      <td>Southampton</td>\n",
       "      <td>no</td>\n",
       "      <td>False</td>\n",
       "    </tr>\n",
       "    <tr>\n",
       "      <th>1</th>\n",
       "      <td>1</td>\n",
       "      <td>1</td>\n",
       "      <td>female</td>\n",
       "      <td>38.0</td>\n",
       "      <td>1</td>\n",
       "      <td>0</td>\n",
       "      <td>71.2833</td>\n",
       "      <td>C</td>\n",
       "      <td>First</td>\n",
       "      <td>woman</td>\n",
       "      <td>False</td>\n",
       "      <td>C</td>\n",
       "      <td>Cherbourg</td>\n",
       "      <td>yes</td>\n",
       "      <td>False</td>\n",
       "    </tr>\n",
       "    <tr>\n",
       "      <th>2</th>\n",
       "      <td>1</td>\n",
       "      <td>3</td>\n",
       "      <td>female</td>\n",
       "      <td>26.0</td>\n",
       "      <td>0</td>\n",
       "      <td>0</td>\n",
       "      <td>7.9250</td>\n",
       "      <td>S</td>\n",
       "      <td>Third</td>\n",
       "      <td>woman</td>\n",
       "      <td>False</td>\n",
       "      <td>NaN</td>\n",
       "      <td>Southampton</td>\n",
       "      <td>yes</td>\n",
       "      <td>True</td>\n",
       "    </tr>\n",
       "    <tr>\n",
       "      <th>3</th>\n",
       "      <td>1</td>\n",
       "      <td>1</td>\n",
       "      <td>female</td>\n",
       "      <td>35.0</td>\n",
       "      <td>1</td>\n",
       "      <td>0</td>\n",
       "      <td>53.1000</td>\n",
       "      <td>S</td>\n",
       "      <td>First</td>\n",
       "      <td>woman</td>\n",
       "      <td>False</td>\n",
       "      <td>C</td>\n",
       "      <td>Southampton</td>\n",
       "      <td>yes</td>\n",
       "      <td>False</td>\n",
       "    </tr>\n",
       "    <tr>\n",
       "      <th>4</th>\n",
       "      <td>0</td>\n",
       "      <td>3</td>\n",
       "      <td>male</td>\n",
       "      <td>35.0</td>\n",
       "      <td>0</td>\n",
       "      <td>0</td>\n",
       "      <td>8.0500</td>\n",
       "      <td>S</td>\n",
       "      <td>Third</td>\n",
       "      <td>man</td>\n",
       "      <td>True</td>\n",
       "      <td>NaN</td>\n",
       "      <td>Southampton</td>\n",
       "      <td>no</td>\n",
       "      <td>True</td>\n",
       "    </tr>\n",
       "    <tr>\n",
       "      <th>...</th>\n",
       "      <td>...</td>\n",
       "      <td>...</td>\n",
       "      <td>...</td>\n",
       "      <td>...</td>\n",
       "      <td>...</td>\n",
       "      <td>...</td>\n",
       "      <td>...</td>\n",
       "      <td>...</td>\n",
       "      <td>...</td>\n",
       "      <td>...</td>\n",
       "      <td>...</td>\n",
       "      <td>...</td>\n",
       "      <td>...</td>\n",
       "      <td>...</td>\n",
       "      <td>...</td>\n",
       "    </tr>\n",
       "    <tr>\n",
       "      <th>886</th>\n",
       "      <td>0</td>\n",
       "      <td>2</td>\n",
       "      <td>male</td>\n",
       "      <td>27.0</td>\n",
       "      <td>0</td>\n",
       "      <td>0</td>\n",
       "      <td>13.0000</td>\n",
       "      <td>S</td>\n",
       "      <td>Second</td>\n",
       "      <td>man</td>\n",
       "      <td>True</td>\n",
       "      <td>NaN</td>\n",
       "      <td>Southampton</td>\n",
       "      <td>no</td>\n",
       "      <td>True</td>\n",
       "    </tr>\n",
       "    <tr>\n",
       "      <th>887</th>\n",
       "      <td>1</td>\n",
       "      <td>1</td>\n",
       "      <td>female</td>\n",
       "      <td>19.0</td>\n",
       "      <td>0</td>\n",
       "      <td>0</td>\n",
       "      <td>30.0000</td>\n",
       "      <td>S</td>\n",
       "      <td>First</td>\n",
       "      <td>woman</td>\n",
       "      <td>False</td>\n",
       "      <td>B</td>\n",
       "      <td>Southampton</td>\n",
       "      <td>yes</td>\n",
       "      <td>True</td>\n",
       "    </tr>\n",
       "    <tr>\n",
       "      <th>888</th>\n",
       "      <td>0</td>\n",
       "      <td>3</td>\n",
       "      <td>female</td>\n",
       "      <td>NaN</td>\n",
       "      <td>1</td>\n",
       "      <td>2</td>\n",
       "      <td>23.4500</td>\n",
       "      <td>S</td>\n",
       "      <td>Third</td>\n",
       "      <td>woman</td>\n",
       "      <td>False</td>\n",
       "      <td>NaN</td>\n",
       "      <td>Southampton</td>\n",
       "      <td>no</td>\n",
       "      <td>False</td>\n",
       "    </tr>\n",
       "    <tr>\n",
       "      <th>889</th>\n",
       "      <td>1</td>\n",
       "      <td>1</td>\n",
       "      <td>male</td>\n",
       "      <td>26.0</td>\n",
       "      <td>0</td>\n",
       "      <td>0</td>\n",
       "      <td>30.0000</td>\n",
       "      <td>C</td>\n",
       "      <td>First</td>\n",
       "      <td>man</td>\n",
       "      <td>True</td>\n",
       "      <td>C</td>\n",
       "      <td>Cherbourg</td>\n",
       "      <td>yes</td>\n",
       "      <td>True</td>\n",
       "    </tr>\n",
       "    <tr>\n",
       "      <th>890</th>\n",
       "      <td>0</td>\n",
       "      <td>3</td>\n",
       "      <td>male</td>\n",
       "      <td>32.0</td>\n",
       "      <td>0</td>\n",
       "      <td>0</td>\n",
       "      <td>7.7500</td>\n",
       "      <td>Q</td>\n",
       "      <td>Third</td>\n",
       "      <td>man</td>\n",
       "      <td>True</td>\n",
       "      <td>NaN</td>\n",
       "      <td>Queenstown</td>\n",
       "      <td>no</td>\n",
       "      <td>True</td>\n",
       "    </tr>\n",
       "  </tbody>\n",
       "</table>\n",
       "<p>891 rows × 15 columns</p>\n",
       "</div>"
      ],
      "text/plain": [
       "     survived  pclass     sex   age  sibsp  parch     fare embarked   class  \\\n",
       "0           0       3    male  22.0      1      0   7.2500        S   Third   \n",
       "1           1       1  female  38.0      1      0  71.2833        C   First   \n",
       "2           1       3  female  26.0      0      0   7.9250        S   Third   \n",
       "3           1       1  female  35.0      1      0  53.1000        S   First   \n",
       "4           0       3    male  35.0      0      0   8.0500        S   Third   \n",
       "..        ...     ...     ...   ...    ...    ...      ...      ...     ...   \n",
       "886         0       2    male  27.0      0      0  13.0000        S  Second   \n",
       "887         1       1  female  19.0      0      0  30.0000        S   First   \n",
       "888         0       3  female   NaN      1      2  23.4500        S   Third   \n",
       "889         1       1    male  26.0      0      0  30.0000        C   First   \n",
       "890         0       3    male  32.0      0      0   7.7500        Q   Third   \n",
       "\n",
       "       who  adult_male deck  embark_town alive  alone  \n",
       "0      man        True  NaN  Southampton    no  False  \n",
       "1    woman       False    C    Cherbourg   yes  False  \n",
       "2    woman       False  NaN  Southampton   yes   True  \n",
       "3    woman       False    C  Southampton   yes  False  \n",
       "4      man        True  NaN  Southampton    no   True  \n",
       "..     ...         ...  ...          ...   ...    ...  \n",
       "886    man        True  NaN  Southampton    no   True  \n",
       "887  woman       False    B  Southampton   yes   True  \n",
       "888  woman       False  NaN  Southampton    no  False  \n",
       "889    man        True    C    Cherbourg   yes   True  \n",
       "890    man        True  NaN   Queenstown    no   True  \n",
       "\n",
       "[891 rows x 15 columns]"
      ]
     },
     "execution_count": 2,
     "metadata": {},
     "output_type": "execute_result"
    }
   ],
   "source": [
    "titanic"
   ]
  },
  {
   "cell_type": "code",
   "execution_count": 9,
   "id": "3b62ff44",
   "metadata": {},
   "outputs": [
    {
     "data": {
      "text/html": [
       "<div>\n",
       "<style scoped>\n",
       "    .dataframe tbody tr th:only-of-type {\n",
       "        vertical-align: middle;\n",
       "    }\n",
       "\n",
       "    .dataframe tbody tr th {\n",
       "        vertical-align: top;\n",
       "    }\n",
       "\n",
       "    .dataframe thead th {\n",
       "        text-align: right;\n",
       "    }\n",
       "</style>\n",
       "<table border=\"1\" class=\"dataframe\">\n",
       "  <thead>\n",
       "    <tr style=\"text-align: right;\">\n",
       "      <th>sex</th>\n",
       "      <th>female</th>\n",
       "      <th>male</th>\n",
       "      <th>All</th>\n",
       "    </tr>\n",
       "    <tr>\n",
       "      <th>survived</th>\n",
       "      <th></th>\n",
       "      <th></th>\n",
       "      <th></th>\n",
       "    </tr>\n",
       "  </thead>\n",
       "  <tbody>\n",
       "    <tr>\n",
       "      <th>0</th>\n",
       "      <td>0.090909</td>\n",
       "      <td>0.525253</td>\n",
       "      <td>0.616162</td>\n",
       "    </tr>\n",
       "    <tr>\n",
       "      <th>1</th>\n",
       "      <td>0.261504</td>\n",
       "      <td>0.122334</td>\n",
       "      <td>0.383838</td>\n",
       "    </tr>\n",
       "    <tr>\n",
       "      <th>All</th>\n",
       "      <td>0.352413</td>\n",
       "      <td>0.647587</td>\n",
       "      <td>1.000000</td>\n",
       "    </tr>\n",
       "  </tbody>\n",
       "</table>\n",
       "</div>"
      ],
      "text/plain": [
       "sex         female      male       All\n",
       "survived                              \n",
       "0         0.090909  0.525253  0.616162\n",
       "1         0.261504  0.122334  0.383838\n",
       "All       0.352413  0.647587  1.000000"
      ]
     },
     "execution_count": 9,
     "metadata": {},
     "output_type": "execute_result"
    }
   ],
   "source": [
    "import pandas as pd\n",
    "pd.crosstab(index = titanic['survived'], columns = titanic['sex'], margins=True, normalize = True)"
   ]
  },
  {
   "cell_type": "code",
   "execution_count": 4,
   "id": "38884145",
   "metadata": {},
   "outputs": [],
   "source": [
    "from scipy.stats import chi2_contingency"
   ]
  },
  {
   "cell_type": "code",
   "execution_count": 7,
   "id": "9a03c166",
   "metadata": {},
   "outputs": [
    {
     "data": {
      "text/plain": [
       "(260.71702016732104,\n",
       " 1.1973570627755645e-58,\n",
       " 1,\n",
       " array([[193.47474747, 355.52525253],\n",
       "        [120.52525253, 221.47474747]]))"
      ]
     },
     "execution_count": 7,
     "metadata": {},
     "output_type": "execute_result"
    }
   ],
   "source": [
    "chi2_contingency([[81,468], [233, 109]])"
   ]
  },
  {
   "cell_type": "code",
   "execution_count": 11,
   "id": "fb99b4aa",
   "metadata": {},
   "outputs": [
    {
     "data": {
      "text/plain": [
       "<AxesSubplot:xlabel='sex', ylabel='survived'>"
      ]
     },
     "execution_count": 11,
     "metadata": {},
     "output_type": "execute_result"
    },
    {
     "data": {
      "image/png": "[encoded data removed]",
      "text/plain": [
       "<Figure size 432x288 with 1 Axes>"
      ]
     },
     "metadata": {
      "needs_background": "light"
     },
     "output_type": "display_data"
    }
   ],
   "source": [
    "sns.violinplot(data = titanic, y = 'survived', x = 'sex')"
   ]
  },
  {
   "cell_type": "code",
   "execution_count": null,
   "id": "c83cf095",
   "metadata": {},
   "outputs": [],
   "source": []
  }
 ],
 "metadata": {
  "kernelspec": {
   "display_name": "Python 3 (ipykernel)",
   "language": "python",
   "name": "python3"
  },
  "language_info": {
   "codemirror_mode": {
    "name": "ipython",
    "version": 3
   },
   "file_extension": ".py",
   "mimetype": "text/x-python",
   "name": "python",
   "nbconvert_exporter": "python",
   "pygments_lexer": "ipython3",
   "version": "3.9.12"
  }
 },
 "nbformat": 4,
 "nbformat_minor": 5
}
